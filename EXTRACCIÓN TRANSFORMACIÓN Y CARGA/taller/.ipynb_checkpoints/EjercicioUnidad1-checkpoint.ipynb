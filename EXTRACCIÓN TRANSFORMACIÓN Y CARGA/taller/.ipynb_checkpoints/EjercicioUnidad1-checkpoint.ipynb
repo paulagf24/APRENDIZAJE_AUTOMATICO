{
 "cells": [
  {
   "cell_type": "markdown",
   "id": "853932e8",
   "metadata": {},
   "source": [
    "Utilizar la librería Numpy"
   ]
  },
  {
   "cell_type": "code",
   "execution_count": 2,
   "id": "b6fac25b",
   "metadata": {
    "scrolled": true
   },
   "outputs": [
    {
     "name": "stdout",
     "output_type": "stream",
     "text": [
      "[[ 1  2  3  4]\n",
      " [ 5  6  7  8]\n",
      " [ 9 10 11 12]]\n"
     ]
    }
   ],
   "source": [
    "#importar la librería de Numpy\n",
    "import numpy as np\n",
    "arreglo=np.array([[1,2,3,4],[5,6,7,8],[9,10,11,12]],dtype=np.int64)\n",
    "print(arreglo)\n"
   ]
  },
  {
   "cell_type": "code",
   "execution_count": 5,
   "id": "d902d43e",
   "metadata": {},
   "outputs": [
    {
     "name": "stdout",
     "output_type": "stream",
     "text": [
      "[[ 20  30  40]\n",
      " [ 70  80 100]\n",
      " [ 45  78  90]\n",
      " [ 54  67  85]]\n"
     ]
    }
   ],
   "source": [
    "#ejemplo 2\n",
    "arreglo2=np.array([[20,30,40],[70,80,100],[45,78,90],[54,67,85]],dtype=np.int64)\n",
    "print(arreglo2)"
   ]
  },
  {
   "cell_type": "markdown",
   "id": "0f1f9e25",
   "metadata": {},
   "source": [
    "Ejercicio de arreglo en string"
   ]
  },
  {
   "cell_type": "code",
   "execution_count": 5,
   "id": "dc094cfd",
   "metadata": {},
   "outputs": [
    {
     "name": "stdout",
     "output_type": "stream",
     "text": [
      "[['A' 'B' 'C']\n",
      " ['D' 'E' 'F']]\n"
     ]
    }
   ],
   "source": [
    "arregloString=np.array([['A','B','C'],['D','E','F']],dtype=np.dtype('U25'))\n",
    "print(arregloString)"
   ]
  },
  {
   "cell_type": "code",
   "execution_count": 6,
   "id": "2ea89452",
   "metadata": {},
   "outputs": [
    {
     "name": "stdout",
     "output_type": "stream",
     "text": [
      "[['z' 'h' 'd']\n",
      " ['a' 'x' 'y']]\n"
     ]
    }
   ],
   "source": [
    "arregloString=np.array([['z','h','d'],['a','x','y']],dtype=np.dtype('U25'))\n",
    "print(arregloString)"
   ]
  },
  {
   "cell_type": "code",
   "execution_count": 6,
   "id": "6049298c",
   "metadata": {},
   "outputs": [
    {
     "name": "stdout",
     "output_type": "stream",
     "text": [
      "[[ 1.3  2.5  3.4]\n",
      " [ 7.8  9.5 11.2]]\n"
     ]
    }
   ],
   "source": [
    "arregloDecimal=np.array([[1.3,2.5,3.4],[7.8,9.5,11.2]],dtype=np.dtype('f8'))\n",
    "print(arregloDecimal)"
   ]
  },
  {
   "cell_type": "markdown",
   "id": "a36b7654",
   "metadata": {},
   "source": [
    "Manejo de Matrices"
   ]
  },
  {
   "cell_type": "code",
   "execution_count": 20,
   "id": "e56f5547",
   "metadata": {},
   "outputs": [
    {
     "name": "stdout",
     "output_type": "stream",
     "text": [
      "[[1. 1. 1. 1. 1. 1. 1.]\n",
      " [1. 1. 1. 1. 1. 1. 1.]\n",
      " [1. 1. 1. 1. 1. 1. 1.]\n",
      " [1. 1. 1. 1. 1. 1. 1.]\n",
      " [1. 1. 1. 1. 1. 1. 1.]]\n"
     ]
    }
   ],
   "source": [
    "#Crear matriz 5 filas y 7 columnas llena de 1\n",
    "matrizUnos=np.ones((5,7))\n",
    "print(matrizUnos)"
   ]
  },
  {
   "cell_type": "code",
   "execution_count": 11,
   "id": "c5784c3e",
   "metadata": {},
   "outputs": [
    {
     "name": "stdout",
     "output_type": "stream",
     "text": [
      "[[0.56474566 0.8170924  0.64253281 0.21847154]\n",
      " [0.89771545 0.51269938 0.85234457 0.72146922]]\n"
     ]
    }
   ],
   "source": [
    "#Crear matriz 2 filas y 4 columnas llena números aleatorios\n",
    "matrizRan=np.random.random((2,4))\n",
    "print(matrizRan)"
   ]
  },
  {
   "cell_type": "code",
   "execution_count": 12,
   "id": "63a2aea0",
   "metadata": {},
   "outputs": [
    {
     "name": "stdout",
     "output_type": "stream",
     "text": [
      "[[0 0 0 0]\n",
      " [0 0 0 0]]\n"
     ]
    }
   ],
   "source": [
    "#Crear matriz 2 filas y 4 columnas vacía\n",
    "matrizEm=np.empty((2,4),int)\n",
    "print(matrizEm)"
   ]
  },
  {
   "cell_type": "code",
   "execution_count": 13,
   "id": "36d4d50f",
   "metadata": {},
   "outputs": [
    {
     "name": "stdout",
     "output_type": "stream",
     "text": [
      "[[50 50]\n",
      " [50 50]\n",
      " [50 50]]\n"
     ]
    }
   ],
   "source": [
    "#Crear matriz 3 filas y 2 columnas con un solo valor\n",
    "matrizFull=np.full((3,2),50)\n",
    "print(matrizFull)"
   ]
  },
  {
   "cell_type": "code",
   "execution_count": 3,
   "id": "51fa20ec",
   "metadata": {},
   "outputs": [
    {
     "name": "stdout",
     "output_type": "stream",
     "text": [
      "[  1   3   5   7   9  11  13  15  17  19  21  23  25  27  29  31  33  35\n",
      "  37  39  41  43  45  47  49  51  53  55  57  59  61  63  65  67  69  71\n",
      "  73  75  77  79  81  83  85  87  89  91  93  95  97  99 101 103 105 107\n",
      " 109 111 113 115 117 119 121 123 125 127 129 131 133 135 137 139 141 143\n",
      " 145 147 149 151 153 155 157 159 161 163 165 167 169 171 173 175 177 179\n",
      " 181 183 185 187 189 191 193 195 197 199 201 203 205 207 209 211 213 215\n",
      " 217 219 221 223 225 227 229 231 233 235 237 239 241 243 245 247 249]\n"
     ]
    }
   ],
   "source": [
    "#Crear matriz con valores espaciados uniformemente\n",
    "matrizRange=np.arange(1,250,2)\n",
    "print(matrizRange)"
   ]
  },
  {
   "cell_type": "code",
   "execution_count": 5,
   "id": "c4e8acda",
   "metadata": {},
   "outputs": [
    {
     "name": "stdout",
     "output_type": "stream",
     "text": [
      "[  0.          11.11111111  22.22222222  33.33333333  44.44444444\n",
      "  55.55555556  66.66666667  77.77777778  88.88888889 100.        ]\n"
     ]
    }
   ],
   "source": [
    "#Crear matriz con valores espaciados uniformemente\n",
    "matrizLin=np.linspace(0,100,10)\n",
    "print(matrizLin)"
   ]
  },
  {
   "cell_type": "code",
   "execution_count": 30,
   "id": "7dae0c9d",
   "metadata": {},
   "outputs": [
    {
     "name": "stdout",
     "output_type": "stream",
     "text": [
      "[[1. 0. 0.]\n",
      " [0. 1. 0.]\n",
      " [0. 0. 1.]\n",
      " [0. 0. 0.]]\n"
     ]
    }
   ],
   "source": [
    "#Crear matriz 4 filas y 3 columnas identidad\n",
    "matrizEye=np.eye(4,3)\n",
    "print(matrizEye)"
   ]
  },
  {
   "cell_type": "code",
   "execution_count": 8,
   "id": "2cf9fe15",
   "metadata": {},
   "outputs": [
    {
     "name": "stdout",
     "output_type": "stream",
     "text": [
      "[[1. 0. 0. 0. 0.]\n",
      " [0. 1. 0. 0. 0.]\n",
      " [0. 0. 1. 0. 0.]\n",
      " [0. 0. 0. 1. 0.]\n",
      " [0. 0. 0. 0. 1.]]\n"
     ]
    }
   ],
   "source": [
    "#Crear matriz cuadrada identidad\n",
    "matrizId=np.identity(5)\n",
    "print(matrizId)"
   ]
  },
  {
   "cell_type": "code",
   "execution_count": 9,
   "id": "bf854a10",
   "metadata": {},
   "outputs": [
    {
     "name": "stdout",
     "output_type": "stream",
     "text": [
      "2\n"
     ]
    }
   ],
   "source": [
    "#Conocer la dimensión de una matriz\n",
    "print(matrizId.ndim)"
   ]
  },
  {
   "cell_type": "code",
   "execution_count": 35,
   "id": "009d4291",
   "metadata": {
    "scrolled": true
   },
   "outputs": [
    {
     "name": "stdout",
     "output_type": "stream",
     "text": [
      "float64\n"
     ]
    }
   ],
   "source": [
    "#Conocer tipo de datos\n",
    "print(matrizId.dtype)"
   ]
  },
  {
   "cell_type": "code",
   "execution_count": 19,
   "id": "74592ab3",
   "metadata": {},
   "outputs": [
    {
     "name": "stdout",
     "output_type": "stream",
     "text": [
      "25\n",
      "(5, 5)\n"
     ]
    }
   ],
   "source": [
    "#Conocer tamaño de matriz\n",
    "print(matrizId.size)\n",
    "#Conocer filas y columnas de la matriz\n",
    "print(matrizId.shape)"
   ]
  },
  {
   "cell_type": "code",
   "execution_count": 11,
   "id": "b162008d",
   "metadata": {},
   "outputs": [
    {
     "ename": "NameError",
     "evalue": "name 'matrizUnos' is not defined",
     "output_type": "error",
     "traceback": [
      "\u001b[1;31m---------------------------------------------------------------------------\u001b[0m",
      "\u001b[1;31mNameError\u001b[0m                                 Traceback (most recent call last)",
      "Cell \u001b[1;32mIn[11], line 2\u001b[0m\n\u001b[0;32m      1\u001b[0m \u001b[38;5;66;03m#Transpuesta\u001b[39;00m\n\u001b[1;32m----> 2\u001b[0m trans\u001b[38;5;241m=\u001b[39mnp\u001b[38;5;241m.\u001b[39mtranspose(matrizUnos)\n\u001b[0;32m      3\u001b[0m \u001b[38;5;28mprint\u001b[39m(\u001b[38;5;124m'\u001b[39m\u001b[38;5;124mMatriz unos\u001b[39m\u001b[38;5;124m'\u001b[39m)\n\u001b[0;32m      4\u001b[0m \u001b[38;5;28mprint\u001b[39m(matrizUnos)\n",
      "\u001b[1;31mNameError\u001b[0m: name 'matrizUnos' is not defined"
     ]
    }
   ],
   "source": [
    "#Transpuesta\n",
    "trans=np.transpose(matrizUnos)\n",
    "print('Matriz unos')\n",
    "print(matrizUnos)\n",
    "print('Matriz transpuesta')\n",
    "print(trans)"
   ]
  },
  {
   "cell_type": "code",
   "execution_count": 25,
   "id": "1ad8e18d",
   "metadata": {},
   "outputs": [
    {
     "name": "stdout",
     "output_type": "stream",
     "text": [
      "Matriz arreglo\n",
      "[[1 2 3 4]\n",
      " [5 6 7 8]]\n",
      "Dato fila 1 y columna 3\n",
      "3\n"
     ]
    }
   ],
   "source": [
    "#Extraer datos de una Matriz\n",
    "print('Matriz arreglo')\n",
    "print(arreglo)\n",
    "print ('Dato fila 1 y columna 3')\n",
    "print(arreglo[0,2])"
   ]
  },
  {
   "cell_type": "code",
   "execution_count": 13,
   "id": "08b09227",
   "metadata": {},
   "outputs": [
    {
     "name": "stdout",
     "output_type": "stream",
     "text": [
      "Matriz arreglo\n",
      "[[ 1  2  3  4]\n",
      " [ 5  6  7  8]\n",
      " [ 9 10 11 12]]\n",
      "Resultado\n",
      "[ 4  8 12]\n"
     ]
    }
   ],
   "source": [
    "#Leer datos de la columna de una Matriz\n",
    "print('Matriz arreglo')\n",
    "print(arreglo)\n",
    "print('Resultado')\n",
    "print(arreglo[:,3])"
   ]
  },
  {
   "cell_type": "code",
   "execution_count": 40,
   "id": "b188bfe1",
   "metadata": {},
   "outputs": [
    {
     "name": "stdout",
     "output_type": "stream",
     "text": [
      "[[1 2 3 4]\n",
      " [5 6 7 8]]\n",
      "Resultado columnas\n",
      "[3 7]\n",
      "[[  10   20   30   40   50]\n",
      " [ 100  200  300  400  500]\n",
      " [1000 2000 3000 4000 5000]]\n",
      "Ejemplo resuelto\n",
      "[1000 2000 3000 4000 5000]\n",
      "300\n"
     ]
    }
   ],
   "source": [
    "#Extraer datos de la columna de una Matriz\n",
    "print(arreglo)\n",
    "print('Resultado columnas')\n",
    "print(arreglo[:,2])\n",
    "\n",
    "\n",
    "ejemplo=np.array([[10,20,30,40,50],[100,200,300,400,500],[1000,2000,3000,4000,5000]], dtype=int)\n",
    "print(ejemplo)\n",
    "print('Ejemplo resuelto')\n",
    "print(ejemplo[2,:])\n",
    "\n",
    "print(ejemplo[1,2])"
   ]
  },
  {
   "cell_type": "code",
   "execution_count": 14,
   "id": "216a4635",
   "metadata": {},
   "outputs": [
    {
     "name": "stdout",
     "output_type": "stream",
     "text": [
      "[[1 2]\n",
      " [3 4]]\n",
      "columna 1\n",
      "[2 4]\n",
      "fila 0\n",
      "[3 4]\n",
      "Otro ejemplo mnatriz 2\n",
      "[[1 2 3]\n",
      " [4 5 6]\n",
      " [7 8 9]]\n",
      "fila 2\n",
      "[4 5 6]\n",
      "columna 2\n",
      "[3 6 9]\n"
     ]
    }
   ],
   "source": [
    "import numpy as np\n",
    "matriz=np.array([[1,2],[3,4]],dtype=int)\n",
    "print(matriz)\n",
    "fila=matriz[:,1]\n",
    "print('columna 1')\n",
    "print(fila)\n",
    "\n",
    "\n",
    "print('fila 0')\n",
    "columna=matriz[1,:]\n",
    "print(columna)\n",
    "\n",
    "print('Otro ejemplo mnatriz 2')\n",
    "\n",
    "matriz2=np.array([[1,2,3],[4,5,6],[7,8,9]])\n",
    "print(matriz2)\n",
    "\n",
    "fila2=matriz2[1,:]\n",
    "print('fila 2')\n",
    "print(fila2)\n",
    "#presentar columna de matriz2\n",
    "columna2=matriz2[:,2]\n",
    "print('columna 2')\n",
    "print(columna2)\n"
   ]
  },
  {
   "cell_type": "markdown",
   "id": "84d6aa13",
   "metadata": {},
   "source": [
    "Operaciones con Matrices"
   ]
  },
  {
   "cell_type": "code",
   "execution_count": 41,
   "id": "4875e56b",
   "metadata": {},
   "outputs": [
    {
     "name": "stdout",
     "output_type": "stream",
     "text": [
      "Matriz A\n",
      "[[1 2 3]\n",
      " [4 5 6]\n",
      " [7 8 9]]\n",
      "Matriz B\n",
      "[[10 11 12]\n",
      " [13 14 15]\n",
      " [16 17 18]]\n",
      "Matriz C resultado\n",
      "[[11 13 15]\n",
      " [17 19 21]\n",
      " [23 25 27]]\n"
     ]
    }
   ],
   "source": [
    "#Suma de Matrices\n",
    "a=np.array([[1,2,3],[4,5,6], [7,8,9]],dtype=np.int64)\n",
    "print('Matriz A')\n",
    "print(a)\n",
    "b=np.array([[10,11,12],[13,14,15], [16,17,18]],dtype=np.int64)\n",
    "print('Matriz B')\n",
    "print(b)\n",
    "c=a+b\n",
    "print('Matriz C resultado')\n",
    "print(c)"
   ]
  },
  {
   "cell_type": "code",
   "execution_count": 42,
   "id": "bb752ce0",
   "metadata": {},
   "outputs": [
    {
     "name": "stdout",
     "output_type": "stream",
     "text": [
      "[[9 9 9]\n",
      " [9 9 9]\n",
      " [9 9 9]]\n"
     ]
    }
   ],
   "source": [
    "#Resta de Matrices\n",
    "a=np.array([[1,2,3],[4,5,6], [7,8,9]],dtype=np.int64)\n",
    "b=np.array([[10,11,12],[13,14,15], [16,17,18]],dtype=np.int64)\n",
    "d=b-a\n",
    "print(d)"
   ]
  },
  {
   "cell_type": "code",
   "execution_count": 43,
   "id": "594b8005",
   "metadata": {},
   "outputs": [
    {
     "name": "stdout",
     "output_type": "stream",
     "text": [
      "[[ 10  22  36]\n",
      " [ 52  70  90]\n",
      " [112 136 162]]\n"
     ]
    }
   ],
   "source": [
    "#Multiplicación de Matrices\n",
    "a=np.array([[1,2,3],[4,5,6], [7,8,9]],dtype=np.int64)\n",
    "b=np.array([[10,11,12],[13,14,15], [16,17,18]],dtype=np.int64)\n",
    "e=a*b\n",
    "print(e)"
   ]
  },
  {
   "cell_type": "code",
   "execution_count": 51,
   "id": "efe79ca4",
   "metadata": {},
   "outputs": [
    {
     "name": "stdout",
     "output_type": "stream",
     "text": [
      "[[0.1        0.18181818 0.25      ]\n",
      " [0.30769231 0.35714286 0.4       ]\n",
      " [0.4375     0.47058824 0.5       ]]\n"
     ]
    }
   ],
   "source": [
    "#División de Matrices\n",
    "a=np.array([[1,2,3],[4,5,6], [7,8,9]],dtype=np.int64)\n",
    "b=np.array([[10,11,12],[13,14,15], [16,17,18]],dtype=np.int64)\n",
    "f=a/b\n",
    "print(f)"
   ]
  },
  {
   "cell_type": "code",
   "execution_count": 44,
   "id": "5ff79022",
   "metadata": {},
   "outputs": [
    {
     "name": "stdout",
     "output_type": "stream",
     "text": [
      "[[ 3  0  1]\n",
      " [ 6  7  4]\n",
      " [ 5 10 11]]\n"
     ]
    }
   ],
   "source": [
    "#Potencia de Matrices\n",
    "a=np.array([[1,2,3],[4,5,6], [7,8,9]],dtype=np.int64)\n",
    "b=np.array([[10,11,12],[13,14,15], [16,17,18]],dtype=np.int64)\n",
    "g=a^2\n",
    "print(g)"
   ]
  },
  {
   "cell_type": "code",
   "execution_count": 14,
   "id": "aba1628a",
   "metadata": {},
   "outputs": [
    {
     "name": "stdout",
     "output_type": "stream",
     "text": [
      "[3.67916117e+180 2.66410817e+233 1.48861373e+195 4.64505295e+151\n",
      " 2.20519873e+232 5.03887212e+175 6.09114650e+247 2.00171554e-052\n",
      " 3.35703061e+242 1.09964277e+248 1.65579082e-076 3.35703061e+242\n",
      " 1.09964277e+248 7.11155611e-067 3.35703061e+242 1.09964277e+248\n",
      " 1.08513648e-071 3.35703061e+242 1.09964277e+248 1.31184325e-047\n",
      " 3.35703061e+242 1.09964277e+248 3.69252224e-033 3.35703468e+242\n",
      " 1.09964277e+248 3.05438766e-057 3.35703265e+242 1.09964277e+248\n",
      " 3.05437308e-057 3.35703061e+242 1.09964277e+248 3.49992923e-033\n",
      " 3.35703061e+242 1.09964277e+248 1.08513907e-071 3.35702858e+242\n",
      " 1.09964277e+248 8.59732329e-043 3.35703061e+242 1.09964277e+248\n",
      " 3.05439252e-057 3.35703061e+242 1.09964277e+248 1.65578950e-076\n",
      " 3.35702858e+242 1.09964277e+248 1.65578291e-076 3.35702858e+242\n",
      " 1.09964277e+248 1.74215119e-076 3.35703061e+242 1.09964277e+248\n",
      " 3.21369929e-057 3.35703468e+242 1.09964277e+248 3.69252224e-033\n",
      " 3.35703468e+242 1.09964277e+248 2.00171554e-052 3.35703265e+242\n",
      " 1.09964277e+248 5.63435525e-038 3.35703265e+242 1.09964277e+248\n",
      " 5.63432834e-038 3.35703265e+242 1.09964277e+248 3.05438281e-057\n",
      " 3.35703061e+242 1.09964277e+248 8.59730277e-043 3.35703468e+242\n",
      " 1.09964277e+248 1.31184951e-047 3.35703061e+242 1.09964277e+248\n",
      " 4.66060717e-062 3.35703672e+242 1.09964277e+248 3.05439252e-057\n",
      " 3.35703061e+242 1.09964277e+248 1.65577897e-076 3.35703061e+242\n",
      " 1.09964277e+248 3.05437308e-057 3.35703468e+242 1.09964277e+248\n",
      " 2.00171713e-052 3.35703061e+242 1.09964277e+248 3.05437795e-057\n",
      " 3.35703061e+242 1.09964277e+248 7.11155611e-067 3.35703061e+242\n",
      " 1.09964277e+248 1.08513821e-071 3.35703061e+242 1.09964277e+248\n",
      " 3.05438281e-057 3.35703468e+242 1.09964277e+248 1.14173102e-071\n",
      " 3.35702858e+242 1.09964277e+248 7.48246542e-067 3.35703061e+242\n",
      " 1.09964277e+248 1.08513907e-071 3.35702858e+242 1.09964277e+248\n",
      " 7.11151651e-067 3.35703061e+242 1.09964277e+248 2.00172191e-052\n",
      " 3.35703061e+242 1.09964277e+248 1.08513907e-071 3.35702858e+242\n",
      " 1.09964277e+248 1.65578423e-076 3.35703061e+242 1.09964277e+248\n",
      " 3.05437551e-057 3.35703061e+242 1.09964277e+248 2.00171394e-052\n",
      " 3.35703265e+242 1.09964277e+248 4.41753546e-062 3.35703265e+242\n",
      " 1.09964277e+248 7.11153913e-067 3.35703061e+242 1.09964277e+248\n",
      " 2.00171394e-052 3.35703875e+242 1.09964277e+248 5.63432834e-038\n",
      " 3.35703468e+242 1.09964277e+248 1.65578950e-076 3.35703265e+242\n",
      " 1.09964277e+248 5.63432834e-038 3.35703061e+242 1.09964277e+248\n",
      " 7.11155045e-067 3.35703061e+242 1.09964277e+248 8.59731645e-043\n",
      " 3.35703061e+242 1.09964277e+248 4.66060346e-062 3.35703061e+242\n",
      " 1.09964277e+248 7.11151655e-067 3.14483719e+044 1.28625697e+248\n",
      " 2.99250581e-260 2.10612199e-052 8.89596968e+247 3.67887618e+228\n",
      " 1.18030168e-095 1.79291853e-052 5.75162856e+180 1.67626279e+243\n",
      " 8.98693987e-096 3.35703269e+242 9.30350598e+199 2.22823283e-048\n",
      " 1.03951004e-095 9.52948320e-090 2.11336794e+214 5.23288369e-067\n",
      " 8.98511109e-096 1.14485172e+243 6.74982500e-244 2.24625956e-057\n",
      " 8.74806169e+199 7.68407864e+170 3.85942257e-033 7.98031707e-072\n",
      " 1.81127238e+261 5.38891891e+228 3.49993513e-033 3.14440162e+044\n",
      " 1.28625697e+248 2.99250581e-260 3.69253102e-033 8.89596968e+247\n",
      " 3.67887618e+228 7.58767931e-096 1.48306217e-076 5.75162856e+180\n",
      " 1.67626279e+243 7.58426586e-096 3.35703676e+242 9.30350598e+199\n",
      " 2.22823283e-048 7.58609444e-096 9.52948320e-090 2.11336794e+214\n",
      " 5.22853980e-067 9.45327878e-096 1.14485172e+243 6.74982500e-244\n",
      " 3.43036690e-062 8.74806160e+199 7.68407864e+170 9.88274943e-043\n",
      " 7.98142682e-072 1.81127238e+261 5.38891891e+228 1.65578687e-076\n",
      " 3.14527275e+044 1.28625697e+248 2.99250581e-260 1.14173533e-071\n",
      " 8.89596968e+247 3.67887618e+228 8.52584336e-096 1.79291216e-052\n",
      " 5.75162856e+180 1.67626279e+243 9.92327517e-096 3.35702862e+242\n",
      " 9.30350598e+199 3.40001347e-053 1.13314355e-095 9.52948320e-090\n",
      " 2.11336794e+214 5.22853980e-067 8.98511095e-096 1.14485172e+243\n",
      " 6.74982500e-244 2.24688065e-057 8.74806166e+199 7.68407864e+170\n",
      " 1.24737835e-071 7.98474311e-072 1.81127238e+261 5.38891891e+228\n",
      " 3.49992926e-033 3.14440162e+044 1.28625697e+248 2.99250581e-260\n",
      " 3.21368226e-057 8.89596968e+247 3.67887618e+228 1.13348492e-095\n",
      " 2.73577414e-057 5.75162856e+180 1.67626279e+243 7.58426580e-096\n",
      " 3.35704083e+242 9.30350598e+199 2.22823283e-048 9.92693281e-096\n",
      " 9.52948320e-090 2.11336794e+214 5.23288369e-067 7.58060819e-096\n",
      " 1.14485172e+243 6.74982500e-244 3.42799301e-062 8.74806154e+199\n",
      " 7.68407864e+170 2.19660204e-052 7.98473879e-072 1.81127238e+261\n",
      " 5.38891891e+228 8.14893516e-043 3.14396606e+044 1.28625697e+248\n",
      " 2.99250581e-260 1.19833333e-071 8.89596968e+247 3.67887618e+228\n",
      " 9.46034985e-096 1.79291216e-052 5.75162856e+180 1.67626279e+243\n",
      " 9.45693615e-096 3.35703879e+242 9.30350598e+199 2.22823283e-048\n",
      " 1.08632679e-095 9.52948320e-090 2.11336794e+214 5.22998871e-067\n",
      " 8.98511106e-096 1.14485172e+243 6.74982500e-244 2.24532611e-057\n",
      " 8.74806160e+199 7.68407864e+170 2.19660204e-052 7.97700510e-072\n",
      " 1.81127238e+261 5.38891891e+228 1.24342569e-047 3.14396606e+044\n",
      " 1.28625697e+248 2.99250581e-260 1.38026602e-047 8.89596968e+247\n",
      " 3.67887618e+228 1.13330204e-095 6.36967526e-067 5.75162856e+180\n",
      " 1.67626279e+243 8.98693973e-096 3.35702658e+242 9.30350598e+199\n",
      " 3.40001347e-053 8.52242985e-096 9.52948320e-090 2.11336794e+214\n",
      " 3.42942266e-062 8.51694337e-096 1.14485172e+243 6.74982500e-244\n",
      " 2.24812525e-057 8.74806160e+199 7.68407864e+170 8.17481873e-067\n",
      " 7.98032139e-072 1.81127238e+261 5.38891891e+228 1.89731067e-052\n",
      " 3.14353050e+044 1.28625697e+248 2.99250581e-260 1.14173620e-071\n",
      " 8.89596968e+247 3.67887618e+228 8.99401100e-096 1.89730908e-052\n",
      " 1.06098820e+200 3.18325432e-244 1.47292353e-052 8.74806177e+199\n",
      " 7.34632995e+223 8.05950450e-096 1.02854108e-071 1.06098820e+200\n",
      " 3.18325432e-244 1.47333136e-052 8.74806174e+199 7.34632995e+223\n",
      " 9.93034627e-096 6.74064118e-067 1.06098820e+200 3.18325432e-244\n",
      " 9.64360221e-048 8.74806154e+199 7.34632995e+223 1.17993592e-095\n",
      " 7.70049910e-043 1.06098820e+200 3.18325432e-244 9.65562443e-048\n",
      " 8.74806174e+199 7.34632995e+223 1.08666815e-095 5.04661256e-038\n",
      " 1.06098820e+200 3.18325432e-244 9.65162050e-048 8.74806166e+199\n",
      " 7.34632995e+223 9.93034627e-096 1.56941860e-076 1.06098820e+200\n",
      " 3.18325432e-244 1.47292353e-052 8.74806177e+199 7.34632995e+223\n",
      " 1.13348492e-095 1.02853763e-071 1.06098820e+200 3.18325432e-244\n",
      " 1.47251570e-052 8.74806151e+199 7.34632995e+223 1.13330204e-095\n",
      " 2.89506632e-057 1.06098820e+200 3.18325432e-244 1.47190475e-052\n",
      " 8.74806160e+199 7.34632995e+223 9.93034627e-096 5.04659911e-038\n",
      " 1.06098820e+200 3.18325432e-244 9.65429327e-048 8.74806157e+199\n",
      " 7.34632995e+223 1.08685103e-095 4.41755032e-062 1.06098820e+200\n",
      " 3.18325432e-244 1.47190395e-052 8.74806166e+199 7.34632995e+223\n",
      " 1.18030168e-095 4.41754289e-062 1.06098820e+200 3.18325432e-244\n",
      " 2.24781410e-057 8.74806151e+199 7.34632995e+223 1.08685103e-095\n",
      " 1.56942651e-076 1.06098820e+200 3.18325432e-244 2.24750295e-057\n",
      " 8.74806174e+199 7.34632995e+223 1.08666815e-095 1.02853935e-071\n",
      " 1.06098820e+200 3.18325432e-244 9.64627497e-048 8.74806174e+199\n",
      " 7.34632995e+223 8.52584336e-096 5.04661254e-038 1.06098820e+200\n",
      " 3.18325432e-244 2.24532611e-057 8.74806174e+199 7.34632995e+223\n",
      " 9.46217863e-096 1.02853849e-071 1.06098820e+200 3.18325432e-244\n",
      " 1.47149692e-052 8.74806169e+199 7.34632995e+223 9.46400741e-096\n",
      " 3.30732745e-033 1.06098820e+200 3.18325432e-244 9.65429327e-048\n",
      " 8.74806151e+199 7.34632995e+223 9.46217863e-096 6.74062986e-067\n",
      " 1.06098820e+200 3.18325432e-244 1.47312745e-052 8.74806166e+199\n",
      " 7.34632995e+223 8.05767572e-096 2.73576929e-057 1.06098820e+200\n",
      " 3.18325432e-244 9.64360221e-048 8.74806160e+199 7.34632995e+223\n",
      " 8.99401099e-096 2.89507848e-057 1.06098820e+200 3.18325432e-244\n",
      " 1.47170083e-052 8.74806174e+199 7.34632995e+223 7.58950809e-096\n",
      " 5.04661254e-038 1.06098820e+200 3.18325432e-244 1.47170083e-052\n",
      " 8.74806154e+199 7.34632995e+223 1.08666815e-095 2.89507848e-057\n",
      " 1.06098820e+200 3.18325432e-244 1.47170083e-052 8.74806160e+199\n",
      " 7.34632995e+223 1.13330204e-095 3.30732743e-033 1.06098820e+200\n",
      " 3.18325432e-244 1.47190475e-052 8.74806160e+199 7.34632995e+223\n",
      " 1.08666815e-095 1.89732023e-052 1.06098820e+200 3.18325432e-244\n",
      " 1.47149692e-052 8.74806160e+199 7.34632995e+223 8.99401099e-096\n",
      " 3.30732450e-033 1.06098820e+200 3.18325432e-244 1.47149692e-052\n",
      " 8.74806151e+199 7.34632995e+223 8.52584336e-096 4.41753176e-062\n",
      " 1.06098820e+200 3.18325432e-244 1.47149692e-052 8.74806174e+199\n",
      " 7.34632995e+223 6.59461596e-096]\n"
     ]
    }
   ],
   "source": [
    "filename = 'Iris_CSV.csv'\n",
    "raw_data = open(filename)\n",
    "data = np.fromfile(filename, dtype=float)\n",
    "print(data)"
   ]
  },
  {
   "cell_type": "code",
   "execution_count": null,
   "id": "c454c0e0",
   "metadata": {},
   "outputs": [],
   "source": []
  }
 ],
 "metadata": {
  "kernelspec": {
   "display_name": "Python 3 (ipykernel)",
   "language": "python",
   "name": "python3"
  },
  "language_info": {
   "codemirror_mode": {
    "name": "ipython",
    "version": 3
   },
   "file_extension": ".py",
   "mimetype": "text/x-python",
   "name": "python",
   "nbconvert_exporter": "python",
   "pygments_lexer": "ipython3",
   "version": "3.11.5"
  }
 },
 "nbformat": 4,
 "nbformat_minor": 5
}
